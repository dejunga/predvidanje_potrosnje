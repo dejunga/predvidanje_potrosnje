{
 "cells": [
  {
   "cell_type": "code",
   "execution_count": null,
   "id": "d5cfade4",
   "metadata": {},
   "outputs": [],
   "source": [
    "import sys, os\n",
    "\n",
    "# Add the project root (one level up from notebooks/) to sys.path\n",
    "sys.path.append(os.path.abspath('..'))"
   ]
  },
  {
   "cell_type": "code",
   "execution_count": 2,
   "id": "3fcc106f",
   "metadata": {},
   "outputs": [
    {
     "name": "stdout",
     "output_type": "stream",
     "text": [
      "scipy 1.9.3 statsmodels 0.14.4\n"
     ]
    }
   ],
   "source": [
    "import scipy\n",
    "import statsmodels.api as sm\n",
    "print(\"scipy\", scipy.__version__, \"statsmodels\", sm.__version__)"
   ]
  },
  {
   "cell_type": "code",
   "execution_count": 3,
   "id": "7b1ebcb2",
   "metadata": {},
   "outputs": [],
   "source": [
    "import pandas as pd\n",
    "import numpy as np\n",
    "from prophet import Prophet\n",
    "import statsmodels.api as sm\n",
    "from sklearn.metrics import mean_squared_error\n",
    "\n",
    "# (Re)učitaj i pripremi podatke\n",
    "df = pd.read_csv(\n",
    "    '../data/historical_consumption.csv',\n",
    "    skipinitialspace=True,\n",
    "    parse_dates=['Datum'],\n",
    "    dayfirst=True\n",
    ")\n",
    "df.rename(columns={'potrosnja':'Potrošnja'}, inplace=True)\n",
    "\n",
    "# 2) Force the exact format yyyy-mm-dd\n",
    "df['Datum'] = pd.to_datetime(df['Datum'], format='%Y-%m-%d', exact=True)\n",
    "\n",
    "# 3) Rename and set index\n",
    "df.rename(columns={'potrosnja':'Potrošnja'}, inplace=True)\n",
    "df.set_index('Datum', inplace=True)\n",
    "\n",
    "# Feature engineering i split\n",
    "df['day_of_week'] = df.index.dayofweek\n",
    "df['month']       = df.index.month\n",
    "df['day']         = df.index.day\n",
    "\n",
    "n     = len(df)\n",
    "split = int(n * 0.8)\n",
    "train = df.iloc[:split].copy()\n",
    "valid = df.iloc[split:].copy()"
   ]
  },
  {
   "cell_type": "code",
   "execution_count": 4,
   "id": "41572cae",
   "metadata": {},
   "outputs": [],
   "source": [
    "# Priprema za Prophet\n",
    "prophet_train = train.reset_index()[['Datum','Potrošnja']].rename(columns={'Datum':'ds','Potrošnja':'y'})\n",
    "prophet_valid = valid.reset_index()[['Datum','Potrošnja']].rename(columns={'Datum':'ds','Potrošnja':'y'})"
   ]
  },
  {
   "cell_type": "code",
   "execution_count": 5,
   "id": "9ea577c8",
   "metadata": {},
   "outputs": [
    {
     "name": "stderr",
     "output_type": "stream",
     "text": [
      "13:29:51 - cmdstanpy - INFO - Chain [1] start processing\n",
      "13:29:51 - cmdstanpy - INFO - Chain [1] done processing\n"
     ]
    },
    {
     "data": {
      "text/plain": [
       "<prophet.forecaster.Prophet at 0x190a49028d0>"
      ]
     },
     "execution_count": 5,
     "metadata": {},
     "output_type": "execute_result"
    }
   ],
   "source": [
    "m = Prophet(daily_seasonality=True, weekly_seasonality=True, yearly_seasonality=False)\n",
    "m.fit(prophet_train)"
   ]
  },
  {
   "cell_type": "code",
   "execution_count": 6,
   "id": "cfa4f888",
   "metadata": {},
   "outputs": [],
   "source": [
    "future = m.make_future_dataframe(periods=len(valid), freq='D')\n",
    "forecast = m.predict(future)\n",
    "# Uzmeš samo zadnjih N predikcija\n",
    "pred_prophet = forecast.set_index('ds')['yhat'].iloc[-len(valid):].values"
   ]
  },
  {
   "cell_type": "code",
   "execution_count": 7,
   "id": "dab4c9e0",
   "metadata": {},
   "outputs": [
    {
     "name": "stdout",
     "output_type": "stream",
     "text": [
      "Prophet RMSE: 691.94\n"
     ]
    }
   ],
   "source": [
    "rmse_prophet = np.sqrt(mean_squared_error(prophet_valid['y'], pred_prophet))\n",
    "print(f\"Prophet RMSE: {rmse_prophet:.2f}\")"
   ]
  },
  {
   "cell_type": "code",
   "execution_count": 8,
   "id": "980da5f6",
   "metadata": {},
   "outputs": [
    {
     "name": "stdout",
     "output_type": "stream",
     "text": [
      "                               SARIMAX Results                                \n",
      "==============================================================================\n",
      "Dep. Variable:              Potrošnja   No. Observations:                   24\n",
      "Model:                 ARIMA(1, 1, 1)   Log Likelihood                -171.489\n",
      "Date:                Fri, 04 Jul 2025   AIC                            348.978\n",
      "Time:                        13:29:51   BIC                            352.384\n",
      "Sample:                    01-01-2023   HQIC                           349.834\n",
      "                         - 01-24-2023                                         \n",
      "Covariance Type:                  opg                                         \n",
      "==============================================================================\n",
      "                 coef    std err          z      P>|z|      [0.025      0.975]\n",
      "------------------------------------------------------------------------------\n",
      "ar.L1          0.6161      0.312      1.972      0.049       0.004       1.228\n",
      "ma.L1         -0.9988     10.039     -0.099      0.921     -20.675      18.677\n",
      "sigma2       1.62e+05   1.62e+06      0.100      0.920   -3.01e+06    3.34e+06\n",
      "===================================================================================\n",
      "Ljung-Box (L1) (Q):                   0.03   Jarque-Bera (JB):                 6.02\n",
      "Prob(Q):                              0.87   Prob(JB):                         0.05\n",
      "Heteroskedasticity (H):               2.49   Skew:                             0.99\n",
      "Prob(H) (two-sided):                  0.22   Kurtosis:                         4.54\n",
      "===================================================================================\n",
      "\n",
      "Warnings:\n",
      "[1] Covariance matrix calculated using the outer product of gradients (complex-step).\n"
     ]
    },
    {
     "name": "stderr",
     "output_type": "stream",
     "text": [
      "C:\\Users\\j\\Desktop\\projects\\consumption-forecast\\venv\\Lib\\site-packages\\statsmodels\\tsa\\base\\tsa_model.py:473: ValueWarning: No frequency information was provided, so inferred frequency D will be used.\n",
      "  self._init_dates(dates, freq)\n",
      "C:\\Users\\j\\Desktop\\projects\\consumption-forecast\\venv\\Lib\\site-packages\\statsmodels\\tsa\\base\\tsa_model.py:473: ValueWarning: No frequency information was provided, so inferred frequency D will be used.\n",
      "  self._init_dates(dates, freq)\n",
      "C:\\Users\\j\\Desktop\\projects\\consumption-forecast\\venv\\Lib\\site-packages\\statsmodels\\tsa\\base\\tsa_model.py:473: ValueWarning: No frequency information was provided, so inferred frequency D will be used.\n",
      "  self._init_dates(dates, freq)\n"
     ]
    }
   ],
   "source": [
    "# primjer ARIMA(1,1,1)\n",
    "arima_order = (1, 1, 1)\n",
    "arima_model = sm.tsa.ARIMA(train['Potrošnja'], order=arima_order).fit()\n",
    "print(arima_model.summary())"
   ]
  },
  {
   "cell_type": "code",
   "execution_count": 9,
   "id": "24793f72",
   "metadata": {},
   "outputs": [
    {
     "name": "stdout",
     "output_type": "stream",
     "text": [
      "ARIMA(1, 1, 1) RMSE: 281.64\n"
     ]
    }
   ],
   "source": [
    "# predikcija za vizualizaciju\n",
    "pred_arima = arima_model.forecast(steps=len(valid))\n",
    "rmse_arima = np.sqrt(mean_squared_error(valid['Potrošnja'], pred_arima))\n",
    "print(f\"ARIMA{arima_order} RMSE: {rmse_arima:.2f}\")"
   ]
  },
  {
   "cell_type": "code",
   "execution_count": 10,
   "id": "2050db66",
   "metadata": {},
   "outputs": [
    {
     "data": {
      "text/html": [
       "<div>\n",
       "<style scoped>\n",
       "    .dataframe tbody tr th:only-of-type {\n",
       "        vertical-align: middle;\n",
       "    }\n",
       "\n",
       "    .dataframe tbody tr th {\n",
       "        vertical-align: top;\n",
       "    }\n",
       "\n",
       "    .dataframe thead th {\n",
       "        text-align: right;\n",
       "    }\n",
       "</style>\n",
       "<table border=\"1\" class=\"dataframe\">\n",
       "  <thead>\n",
       "    <tr style=\"text-align: right;\">\n",
       "      <th></th>\n",
       "      <th>model</th>\n",
       "      <th>rmse</th>\n",
       "    </tr>\n",
       "  </thead>\n",
       "  <tbody>\n",
       "    <tr>\n",
       "      <th>0</th>\n",
       "      <td>Prophet</td>\n",
       "      <td>691.941349</td>\n",
       "    </tr>\n",
       "    <tr>\n",
       "      <th>1</th>\n",
       "      <td>ARIMA(1, 1, 1)</td>\n",
       "      <td>281.638909</td>\n",
       "    </tr>\n",
       "  </tbody>\n",
       "</table>\n",
       "</div>"
      ],
      "text/plain": [
       "            model        rmse\n",
       "0         Prophet  691.941349\n",
       "1  ARIMA(1, 1, 1)  281.638909"
      ]
     },
     "metadata": {},
     "output_type": "display_data"
    }
   ],
   "source": [
    "results = pd.DataFrame({\n",
    "    'model': ['Prophet', f'ARIMA{arima_order}'],\n",
    "    'rmse': [rmse_prophet, rmse_arima]\n",
    "})\n",
    "display(results)"
   ]
  },
  {
   "cell_type": "code",
   "execution_count": 11,
   "id": "48be0d8a",
   "metadata": {},
   "outputs": [
    {
     "ename": "ModuleNotFoundError",
     "evalue": "No module named 'src'",
     "output_type": "error",
     "traceback": [
      "\u001b[31m-------------------------------------------------------\u001b[39m",
      "\u001b[31mModuleNotFoundError\u001b[39m   Traceback (most recent call last)",
      "\u001b[36mCell\u001b[39m\u001b[36m \u001b[39m\u001b[32mIn[11]\u001b[39m\u001b[32m, line 2\u001b[39m\n\u001b[32m      1\u001b[39m \u001b[38;5;66;03m# 4.6 Testiranje iz src/model.py\u001b[39;00m\n\u001b[32m----> \u001b[39m\u001b[32m2\u001b[39m \u001b[38;5;28;01mfrom\u001b[39;00m\u001b[38;5;250m \u001b[39m\u001b[34;01msrc\u001b[39;00m\u001b[34;01m.\u001b[39;00m\u001b[34;01mmodel\u001b[39;00m\u001b[38;5;250m \u001b[39m\u001b[38;5;28;01mimport\u001b[39;00m train_and_forecast_arima\n\u001b[32m      4\u001b[39m \u001b[38;5;66;03m# Koristimo već pripremljene train i valid DataFrame-ove\u001b[39;00m\n\u001b[32m      5\u001b[39m result = train_and_forecast_arima(train, order=(\u001b[32m1\u001b[39m,\u001b[32m1\u001b[39m,\u001b[32m1\u001b[39m), periods=\u001b[38;5;28mlen\u001b[39m(valid))\n",
      "\u001b[31mModuleNotFoundError\u001b[39m: No module named 'src'"
     ]
    }
   ],
   "source": [
    "# 4.6 Testiranje iz src/model.py\n",
    "from src.model import train_and_forecast_arima\n",
    "\n",
    "# Koristimo već pripremljene train i valid DataFrame-ove\n",
    "result = train_and_forecast_arima(train, order=(1,1,1), periods=len(valid))\n",
    "\n",
    "# Ispiši AIC te prvih 5 predikcija\n",
    "print(\"ARIMA AIC:\", result['aic'])\n",
    "print(\"\\nPrvih 5 predikcija:\")\n",
    "display(result['forecast'].head())\n",
    "\n",
    "# (Opcionalno) RMSE na valid setu, ako želiš potvrditi:\n",
    "from sklearn.metrics import mean_squared_error\n",
    "rmse = mean_squared_error(valid['Potrošnja'], result['forecast'], squared=False)\n",
    "print(f\"\\nValid RMSE: {rmse:.2f}\")"
   ]
  }
 ],
 "metadata": {
  "kernelspec": {
   "display_name": "Python 3 (ipykernel)",
   "language": "python",
   "name": "python3"
  },
  "language_info": {
   "codemirror_mode": {
    "name": "ipython",
    "version": 3
   },
   "file_extension": ".py",
   "mimetype": "text/x-python",
   "name": "python",
   "nbconvert_exporter": "python",
   "pygments_lexer": "ipython3",
   "version": "3.11.9"
  }
 },
 "nbformat": 4,
 "nbformat_minor": 5
}
