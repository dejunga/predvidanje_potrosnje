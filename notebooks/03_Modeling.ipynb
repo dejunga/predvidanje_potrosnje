{
 "cells": [
  {
   "cell_type": "code",
   "execution_count": 21,
   "id": "462c0d00",
   "metadata": {},
   "outputs": [],
   "source": [
    "import sys, os\n",
    "sys.path.append(os.path.abspath('..'))\n",
    "\n",
    "import pandas as pd\n",
    "import numpy as np\n",
    "import scipy\n",
    "import statsmodels.api as sm\n",
    "from prophet import Prophet\n",
    "from sklearn.metrics import mean_squared_error, mean_absolute_error"
   ]
  },
  {
   "cell_type": "code",
   "execution_count": 22,
   "id": "361d3d1c",
   "metadata": {},
   "outputs": [
    {
     "name": "stdout",
     "output_type": "stream",
     "text": [
      "Versions: 1.9.3 0.14.4\n",
      "<class 'pandas.core.frame.DataFrame'>\n",
      "Index: 31 entries, 2023-01-01 to 2023-01-31\n",
      "Data columns (total 1 columns):\n",
      " #   Column     Non-Null Count  Dtype\n",
      "---  ------     --------------  -----\n",
      " 0   Potrošnja  31 non-null     int64\n",
      "dtypes: int64(1)\n",
      "memory usage: 496.0+ bytes\n"
     ]
    },
    {
     "data": {
      "text/html": [
       "<div>\n",
       "<style scoped>\n",
       "    .dataframe tbody tr th:only-of-type {\n",
       "        vertical-align: middle;\n",
       "    }\n",
       "\n",
       "    .dataframe tbody tr th {\n",
       "        vertical-align: top;\n",
       "    }\n",
       "\n",
       "    .dataframe thead th {\n",
       "        text-align: right;\n",
       "    }\n",
       "</style>\n",
       "<table border=\"1\" class=\"dataframe\">\n",
       "  <thead>\n",
       "    <tr style=\"text-align: right;\">\n",
       "      <th></th>\n",
       "      <th>Potrošnja</th>\n",
       "    </tr>\n",
       "    <tr>\n",
       "      <th>Datum</th>\n",
       "      <th></th>\n",
       "    </tr>\n",
       "  </thead>\n",
       "  <tbody>\n",
       "    <tr>\n",
       "      <th>2023-01-01</th>\n",
       "      <td>150</td>\n",
       "    </tr>\n",
       "    <tr>\n",
       "      <th>2023-01-02</th>\n",
       "      <td>200</td>\n",
       "    </tr>\n",
       "    <tr>\n",
       "      <th>2023-01-03</th>\n",
       "      <td>10</td>\n",
       "    </tr>\n",
       "    <tr>\n",
       "      <th>2023-01-04</th>\n",
       "      <td>300</td>\n",
       "    </tr>\n",
       "    <tr>\n",
       "      <th>2023-01-05</th>\n",
       "      <td>600</td>\n",
       "    </tr>\n",
       "  </tbody>\n",
       "</table>\n",
       "</div>"
      ],
      "text/plain": [
       "            Potrošnja\n",
       "Datum                \n",
       "2023-01-01        150\n",
       "2023-01-02        200\n",
       "2023-01-03         10\n",
       "2023-01-04        300\n",
       "2023-01-05        600"
      ]
     },
     "metadata": {},
     "output_type": "display_data"
    },
    {
     "data": {
      "text/plain": [
       "None"
      ]
     },
     "metadata": {},
     "output_type": "display_data"
    }
   ],
   "source": [
    "# Load & clean\n",
    "df = (\n",
    "    pd.read_csv(\n",
    "        '../data/historical_consumption.csv',\n",
    "        skipinitialspace=True,\n",
    "        parse_dates=['Datum'],\n",
    "        dayfirst=True\n",
    "    )\n",
    "    .rename(columns={'potrosnja':'Potrošnja'})\n",
    "    .sort_values('Datum')\n",
    "    .set_index('Datum')\n",
    ")\n",
    "df['Potrošnja'] = df['Potrošnja'].fillna(0)\n",
    "\n",
    "print(\"Versions:\", scipy.__version__, sm.__version__)\n",
    "display(df.head(), df.info())"
   ]
  },
  {
   "cell_type": "code",
   "execution_count": 23,
   "id": "5c6be9b5",
   "metadata": {},
   "outputs": [
    {
     "name": "stdout",
     "output_type": "stream",
     "text": [
      "Train: 24 rows, Valid: 7 rows\n"
     ]
    }
   ],
   "source": [
    "# Train/valid split\n",
    "split = int(len(df) * 0.8)\n",
    "train, valid = df.iloc[:split], df.iloc[split:]\n",
    "print(f\"Train: {len(train)} rows, Valid: {len(valid)} rows\")"
   ]
  },
  {
   "cell_type": "code",
   "execution_count": 24,
   "id": "e6aa4704",
   "metadata": {},
   "outputs": [
    {
     "name": "stderr",
     "output_type": "stream",
     "text": [
      "21:50:51 - cmdstanpy - INFO - Chain [1] start processing\n",
      "21:50:51 - cmdstanpy - INFO - Chain [1] done processing\n"
     ]
    },
    {
     "name": "stdout",
     "output_type": "stream",
     "text": [
      "Prophet RMSE: 691.94\n"
     ]
    }
   ],
   "source": [
    "# Prophet proof-of-concept\n",
    "prophet_train = train.reset_index().rename(columns={'Datum':'ds','Potrošnja':'y'})[['ds','y']]\n",
    "prophet_valid = valid.reset_index().rename(columns={'Datum':'ds','Potrošnja':'y'})[['ds','y']]\n",
    "\n",
    "m = Prophet(daily_seasonality=True, weekly_seasonality=True, yearly_seasonality=False)\n",
    "m.fit(prophet_train)\n",
    "\n",
    "future = m.make_future_dataframe(periods=len(valid), freq='D')\n",
    "forecast = m.predict(future)\n",
    "\n",
    "pred_prophet = forecast.set_index('ds')['yhat'].iloc[-len(valid):].values\n",
    "rmse_prophet = np.sqrt(mean_squared_error(prophet_valid['y'], pred_prophet))\n",
    "\n",
    "print(f\"Prophet RMSE: {rmse_prophet:.2f}\")"
   ]
  },
  {
   "cell_type": "code",
   "execution_count": 25,
   "id": "84584ac0",
   "metadata": {},
   "outputs": [
    {
     "name": "stderr",
     "output_type": "stream",
     "text": [
      "C:\\Users\\j\\Desktop\\projects\\consumption-forecast\\venv\\Lib\\site-packages\\statsmodels\\tsa\\base\\tsa_model.py:473: ValueWarning: No frequency information was provided, so inferred frequency D will be used.\n",
      "  self._init_dates(dates, freq)\n"
     ]
    },
    {
     "name": "stdout",
     "output_type": "stream",
     "text": [
      "                               SARIMAX Results                                \n",
      "==============================================================================\n",
      "Dep. Variable:              Potrošnja   No. Observations:                   24\n",
      "Model:                 ARIMA(1, 1, 1)   Log Likelihood                -171.489\n",
      "Date:                Thu, 10 Jul 2025   AIC                            348.978\n",
      "Time:                        21:50:51   BIC                            352.384\n",
      "Sample:                    01-01-2023   HQIC                           349.834\n",
      "                         - 01-24-2023                                         \n",
      "Covariance Type:                  opg                                         \n",
      "==============================================================================\n",
      "                 coef    std err          z      P>|z|      [0.025      0.975]\n",
      "------------------------------------------------------------------------------\n",
      "ar.L1          0.6161      0.312      1.972      0.049       0.004       1.228\n",
      "ma.L1         -0.9988     10.039     -0.099      0.921     -20.675      18.677\n",
      "sigma2       1.62e+05   1.62e+06      0.100      0.920   -3.01e+06    3.34e+06\n",
      "===================================================================================\n",
      "Ljung-Box (L1) (Q):                   0.03   Jarque-Bera (JB):                 6.02\n",
      "Prob(Q):                              0.87   Prob(JB):                         0.05\n",
      "Heteroskedasticity (H):               2.49   Skew:                             0.99\n",
      "Prob(H) (two-sided):                  0.22   Kurtosis:                         4.54\n",
      "===================================================================================\n",
      "\n",
      "Warnings:\n",
      "[1] Covariance matrix calculated using the outer product of gradients (complex-step).\n",
      "ARIMA(1, 1, 1) RMSE: 281.64\n"
     ]
    },
    {
     "name": "stderr",
     "output_type": "stream",
     "text": [
      "C:\\Users\\j\\Desktop\\projects\\consumption-forecast\\venv\\Lib\\site-packages\\statsmodels\\tsa\\base\\tsa_model.py:473: ValueWarning: No frequency information was provided, so inferred frequency D will be used.\n",
      "  self._init_dates(dates, freq)\n",
      "C:\\Users\\j\\Desktop\\projects\\consumption-forecast\\venv\\Lib\\site-packages\\statsmodels\\tsa\\base\\tsa_model.py:473: ValueWarning: No frequency information was provided, so inferred frequency D will be used.\n",
      "  self._init_dates(dates, freq)\n"
     ]
    }
   ],
   "source": [
    "# ARIMA proof-of-concept\n",
    "order = (1,1,1)\n",
    "arima_model = sm.tsa.ARIMA(train['Potrošnja'], order=order).fit()\n",
    "pred_arima = arima_model.forecast(steps=len(valid))\n",
    "rmse_arima = np.sqrt(mean_squared_error(valid['Potrošnja'], pred_arima))\n",
    "\n",
    "print(arima_model.summary())\n",
    "print(f\"ARIMA{order} RMSE: {rmse_arima:.2f}\")"
   ]
  },
  {
   "cell_type": "code",
   "execution_count": 26,
   "id": "34a2014d",
   "metadata": {},
   "outputs": [
    {
     "data": {
      "text/html": [
       "<div>\n",
       "<style scoped>\n",
       "    .dataframe tbody tr th:only-of-type {\n",
       "        vertical-align: middle;\n",
       "    }\n",
       "\n",
       "    .dataframe tbody tr th {\n",
       "        vertical-align: top;\n",
       "    }\n",
       "\n",
       "    .dataframe thead th {\n",
       "        text-align: right;\n",
       "    }\n",
       "</style>\n",
       "<table border=\"1\" class=\"dataframe\">\n",
       "  <thead>\n",
       "    <tr style=\"text-align: right;\">\n",
       "      <th></th>\n",
       "      <th>model</th>\n",
       "      <th>rmse</th>\n",
       "    </tr>\n",
       "  </thead>\n",
       "  <tbody>\n",
       "    <tr>\n",
       "      <th>0</th>\n",
       "      <td>Prophet</td>\n",
       "      <td>691.941349</td>\n",
       "    </tr>\n",
       "    <tr>\n",
       "      <th>1</th>\n",
       "      <td>ARIMA(1, 1, 1)</td>\n",
       "      <td>281.638909</td>\n",
       "    </tr>\n",
       "  </tbody>\n",
       "</table>\n",
       "</div>"
      ],
      "text/plain": [
       "            model        rmse\n",
       "0         Prophet  691.941349\n",
       "1  ARIMA(1, 1, 1)  281.638909"
      ]
     },
     "metadata": {},
     "output_type": "display_data"
    }
   ],
   "source": [
    "results = pd.DataFrame({\n",
    "    'model': ['Prophet', f'ARIMA{order}'],\n",
    "    'rmse':  [rmse_prophet, rmse_arima]\n",
    "})\n",
    "display(results)"
   ]
  },
  {
   "cell_type": "code",
   "execution_count": 27,
   "id": "ab3c36c5",
   "metadata": {},
   "outputs": [
    {
     "name": "stderr",
     "output_type": "stream",
     "text": [
      "C:\\Users\\j\\Desktop\\projects\\consumption-forecast\\venv\\Lib\\site-packages\\statsmodels\\tsa\\base\\tsa_model.py:473: ValueWarning: No frequency information was provided, so inferred frequency D will be used.\n",
      "  self._init_dates(dates, freq)\n",
      "C:\\Users\\j\\Desktop\\projects\\consumption-forecast\\venv\\Lib\\site-packages\\statsmodels\\tsa\\base\\tsa_model.py:473: ValueWarning: No frequency information was provided, so inferred frequency D will be used.\n",
      "  self._init_dates(dates, freq)\n",
      "C:\\Users\\j\\Desktop\\projects\\consumption-forecast\\venv\\Lib\\site-packages\\statsmodels\\tsa\\base\\tsa_model.py:473: ValueWarning: No frequency information was provided, so inferred frequency D will be used.\n",
      "  self._init_dates(dates, freq)\n"
     ]
    },
    {
     "name": "stdout",
     "output_type": "stream",
     "text": [
      "AIC: 348.9776750082995 | RMSE: 281.6389085947712\n"
     ]
    },
    {
     "data": {
      "text/plain": [
       "2023-01-25    240.935667\n",
       "2023-01-26    304.967148\n",
       "2023-01-27    344.414921\n",
       "2023-01-28    368.717448\n",
       "2023-01-29    383.689467\n",
       "Freq: D, Name: predicted_mean, dtype: float64"
      ]
     },
     "metadata": {},
     "output_type": "display_data"
    }
   ],
   "source": [
    "from src.model import train_and_forecast_arima\n",
    "\n",
    "res = train_and_forecast_arima(train, order=order, periods=len(valid))\n",
    "mse = mean_squared_error(valid['Potrošnja'], res['forecast'])\n",
    "print(\"AIC:\", res['aic'], \"| RMSE:\", np.sqrt(mse))\n",
    "display(res['forecast'].head())"
   ]
  },
  {
   "cell_type": "code",
   "execution_count": 28,
   "id": "98d81661",
   "metadata": {},
   "outputs": [
    {
     "name": "stderr",
     "output_type": "stream",
     "text": [
      "C:\\Users\\j\\Desktop\\projects\\consumption-forecast\\venv\\Lib\\site-packages\\statsmodels\\tsa\\base\\tsa_model.py:473: ValueWarning: No frequency information was provided, so inferred frequency D will be used.\n",
      "  self._init_dates(dates, freq)\n",
      "C:\\Users\\j\\Desktop\\projects\\consumption-forecast\\venv\\Lib\\site-packages\\statsmodels\\tsa\\base\\tsa_model.py:473: ValueWarning: No frequency information was provided, so inferred frequency D will be used.\n",
      "  self._init_dates(dates, freq)\n",
      "C:\\Users\\j\\Desktop\\projects\\consumption-forecast\\venv\\Lib\\site-packages\\statsmodels\\tsa\\base\\tsa_model.py:473: ValueWarning: No frequency information was provided, so inferred frequency D will be used.\n",
      "  self._init_dates(dates, freq)\n",
      "C:\\Users\\j\\Desktop\\projects\\consumption-forecast\\venv\\Lib\\site-packages\\statsmodels\\tsa\\base\\tsa_model.py:473: ValueWarning: No frequency information was provided, so inferred frequency D will be used.\n",
      "  self._init_dates(dates, freq)\n",
      "C:\\Users\\j\\Desktop\\projects\\consumption-forecast\\venv\\Lib\\site-packages\\statsmodels\\tsa\\base\\tsa_model.py:473: ValueWarning: No frequency information was provided, so inferred frequency D will be used.\n",
      "  self._init_dates(dates, freq)\n",
      "C:\\Users\\j\\Desktop\\projects\\consumption-forecast\\venv\\Lib\\site-packages\\statsmodels\\tsa\\base\\tsa_model.py:473: ValueWarning: No frequency information was provided, so inferred frequency D will be used.\n",
      "  self._init_dates(dates, freq)\n",
      "C:\\Users\\j\\Desktop\\projects\\consumption-forecast\\venv\\Lib\\site-packages\\statsmodels\\tsa\\statespace\\sarimax.py:966: UserWarning: Non-stationary starting autoregressive parameters found. Using zeros as starting parameters.\n",
      "  warn('Non-stationary starting autoregressive parameters'\n",
      "C:\\Users\\j\\Desktop\\projects\\consumption-forecast\\venv\\Lib\\site-packages\\statsmodels\\tsa\\statespace\\sarimax.py:978: UserWarning: Non-invertible starting MA parameters found. Using zeros as starting parameters.\n",
      "  warn('Non-invertible starting MA parameters found.'\n",
      "C:\\Users\\j\\Desktop\\projects\\consumption-forecast\\venv\\Lib\\site-packages\\statsmodels\\tsa\\base\\tsa_model.py:473: ValueWarning: No frequency information was provided, so inferred frequency D will be used.\n",
      "  self._init_dates(dates, freq)\n",
      "C:\\Users\\j\\Desktop\\projects\\consumption-forecast\\venv\\Lib\\site-packages\\statsmodels\\tsa\\base\\tsa_model.py:473: ValueWarning: No frequency information was provided, so inferred frequency D will be used.\n",
      "  self._init_dates(dates, freq)\n",
      "C:\\Users\\j\\Desktop\\projects\\consumption-forecast\\venv\\Lib\\site-packages\\statsmodels\\tsa\\base\\tsa_model.py:473: ValueWarning: No frequency information was provided, so inferred frequency D will be used.\n",
      "  self._init_dates(dates, freq)\n",
      "C:\\Users\\j\\Desktop\\projects\\consumption-forecast\\venv\\Lib\\site-packages\\statsmodels\\tsa\\statespace\\sarimax.py:966: UserWarning: Non-stationary starting autoregressive parameters found. Using zeros as starting parameters.\n",
      "  warn('Non-stationary starting autoregressive parameters'\n",
      "C:\\Users\\j\\Desktop\\projects\\consumption-forecast\\venv\\Lib\\site-packages\\statsmodels\\tsa\\statespace\\sarimax.py:978: UserWarning: Non-invertible starting MA parameters found. Using zeros as starting parameters.\n",
      "  warn('Non-invertible starting MA parameters found.'\n"
     ]
    },
    {
     "name": "stdout",
     "output_type": "stream",
     "text": [
      "Rolling 7-day RMSE: 333.21\n",
      "Rolling 7-day MAE : 313.63\n"
     ]
    },
    {
     "name": "stderr",
     "output_type": "stream",
     "text": [
      "C:\\Users\\j\\Desktop\\projects\\consumption-forecast\\venv\\Lib\\site-packages\\statsmodels\\tsa\\base\\tsa_model.py:473: ValueWarning: No frequency information was provided, so inferred frequency D will be used.\n",
      "  self._init_dates(dates, freq)\n",
      "C:\\Users\\j\\Desktop\\projects\\consumption-forecast\\venv\\Lib\\site-packages\\statsmodels\\tsa\\base\\tsa_model.py:473: ValueWarning: No frequency information was provided, so inferred frequency D will be used.\n",
      "  self._init_dates(dates, freq)\n",
      "C:\\Users\\j\\Desktop\\projects\\consumption-forecast\\venv\\Lib\\site-packages\\statsmodels\\tsa\\base\\tsa_model.py:473: ValueWarning: No frequency information was provided, so inferred frequency D will be used.\n",
      "  self._init_dates(dates, freq)\n"
     ]
    }
   ],
   "source": [
    "order    = (1,1,1)\n",
    "H        = 7\n",
    "min_train = 20\n",
    "\n",
    "rmse_list = []\n",
    "mae_list  = []\n",
    "\n",
    "for i in range(min_train, len(df) - H):\n",
    "    train_slice = df.iloc[:i]\n",
    "    true_slice  = df['Potrošnja'].iloc[i : i+H]\n",
    "    \n",
    "    # forecast H steps\n",
    "    res   = train_and_forecast_arima(train_slice, order=order, periods=H)\n",
    "    pred  = res['forecast']\n",
    "    \n",
    "    # align and compute errors\n",
    "    pred = pred.reindex(true_slice.index)  # sigurnost da su indeksi isti\n",
    "    \n",
    "    rmse_list.append(\n",
    "        np.sqrt(np.mean((true_slice - pred) ** 2))\n",
    "    )\n",
    "    mae_list.append(\n",
    "        mean_absolute_error(true_slice, pred)\n",
    "    )\n",
    "\n",
    "rolling_rmse = np.mean(rmse_list)  # prosječni RMSE preko svih windows\n",
    "rolling_mae  = np.mean(mae_list)\n",
    "\n",
    "print(f\"Rolling {H}-day RMSE: {rolling_rmse:.2f}\")\n",
    "print(f\"Rolling {H}-day MAE : {rolling_mae:.2f}\")"
   ]
  },
  {
   "cell_type": "code",
   "execution_count": 29,
   "id": "a5bdcc96",
   "metadata": {},
   "outputs": [
    {
     "data": {
      "image/png": "[encoded data removed]",
      "text/plain": [
       "<Figure size 1000x300 with 1 Axes>"
      ]
     },
     "metadata": {},
     "output_type": "display_data"
    }
   ],
   "source": [
    "import matplotlib.pyplot as plt\n",
    "\n",
    "residuals = arima_model.resid\n",
    "\n",
    "plt.figure(figsize=(10,3))\n",
    "plt.plot(residuals)\n",
    "plt.title(\"Ostatci ARIMA(1,1,1)\")\n",
    "plt.xlabel(\"Datum\")\n",
    "plt.ylabel(\"Residuali\")\n",
    "\n",
    "# reduce tick label size\n",
    "plt.tick_params(axis='x', labelsize=8, rotation=45)\n",
    "plt.tick_params(axis='y', labelsize=8)\n",
    "\n",
    "plt.tight_layout()  \n",
    "plt.show()\n"
   ]
  },
  {
   "cell_type": "code",
   "execution_count": 30,
   "id": "536c8690",
   "metadata": {},
   "outputs": [
    {
     "data": {
      "image/png": "[encoded data removed]",
      "text/plain": [
       "<Figure size 1200x300 with 2 Axes>"
      ]
     },
     "metadata": {},
     "output_type": "display_data"
    }
   ],
   "source": [
    "from statsmodels.graphics.tsaplots import plot_acf, plot_pacf\n",
    "\n",
    "fig, axes = plt.subplots(1,2, figsize=(12,3))\n",
    "plot_acf(residuals, lags=10, ax=axes[0], title=\"ACF ostataka\")\n",
    "plot_pacf(residuals, lags=10, ax=axes[1], title=\"PACF ostataka\")\n",
    "plt.tight_layout()\n",
    "plt.show()\n"
   ]
  },
  {
   "cell_type": "code",
   "execution_count": 31,
   "id": "0811f421",
   "metadata": {},
   "outputs": [
    {
     "name": "stdout",
     "output_type": "stream",
     "text": [
      "Ljung-Box test (lag=10):\n"
     ]
    },
    {
     "data": {
      "text/html": [
       "<div>\n",
       "<style scoped>\n",
       "    .dataframe tbody tr th:only-of-type {\n",
       "        vertical-align: middle;\n",
       "    }\n",
       "\n",
       "    .dataframe tbody tr th {\n",
       "        vertical-align: top;\n",
       "    }\n",
       "\n",
       "    .dataframe thead th {\n",
       "        text-align: right;\n",
       "    }\n",
       "</style>\n",
       "<table border=\"1\" class=\"dataframe\">\n",
       "  <thead>\n",
       "    <tr style=\"text-align: right;\">\n",
       "      <th></th>\n",
       "      <th>lb_stat</th>\n",
       "      <th>lb_pvalue</th>\n",
       "    </tr>\n",
       "  </thead>\n",
       "  <tbody>\n",
       "    <tr>\n",
       "      <th>10</th>\n",
       "      <td>9.28982</td>\n",
       "      <td>0.504837</td>\n",
       "    </tr>\n",
       "  </tbody>\n",
       "</table>\n",
       "</div>"
      ],
      "text/plain": [
       "    lb_stat  lb_pvalue\n",
       "10  9.28982   0.504837"
      ]
     },
     "metadata": {},
     "output_type": "display_data"
    }
   ],
   "source": [
    "from statsmodels.stats.diagnostic import acorr_ljungbox\n",
    "\n",
    "lb_test = acorr_ljungbox(residuals, lags=[10], return_df=True)\n",
    "print(\"Ljung-Box test (lag=10):\")\n",
    "display(lb_test)\n"
   ]
  },
  {
   "cell_type": "code",
   "execution_count": 32,
   "id": "07c5fe8f",
   "metadata": {},
   "outputs": [
    {
     "name": "stdout",
     "output_type": "stream",
     "text": [
      "Jarque–Bera stat: 6.47, p-value: 0.039\n"
     ]
    }
   ],
   "source": [
    "from statsmodels.stats.stattools import jarque_bera\n",
    "\n",
    "jb_stat, jb_pvalue, _, _ = jarque_bera(residuals)\n",
    "print(f\"Jarque–Bera stat: {jb_stat:.2f}, p-value: {jb_pvalue:.3f}\")"
   ]
  }
 ],
 "metadata": {
  "kernelspec": {
   "display_name": "Python 3 (ipykernel)",
   "language": "python",
   "name": "python3"
  },
  "language_info": {
   "codemirror_mode": {
    "name": "ipython",
    "version": 3
   },
   "file_extension": ".py",
   "mimetype": "text/x-python",
   "name": "python",
   "nbconvert_exporter": "python",
   "pygments_lexer": "ipython3",
   "version": "3.11.9"
  }
 },
 "nbformat": 4,
 "nbformat_minor": 5
}
