{
 "cells": [
  {
   "cell_type": "code",
   "execution_count": 22,
   "id": "462c0d00",
   "metadata": {},
   "outputs": [],
   "source": [
    "import sys, os\n",
    "sys.path.append(os.path.abspath('..'))\n",
    "\n",
    "import pandas as pd\n",
    "import numpy as np\n",
    "import scipy\n",
    "import statsmodels.api as sm\n",
    "from prophet import Prophet\n",
    "from sklearn.metrics import mean_squared_error, mean_absolute_error"
   ]
  },
  {
   "cell_type": "code",
   "execution_count": 23,
   "id": "361d3d1c",
   "metadata": {},
   "outputs": [
    {
     "name": "stdout",
     "output_type": "stream",
     "text": [
      "Versions: 1.9.3 0.14.4\n",
      "<class 'pandas.core.frame.DataFrame'>\n",
      "Index: 31 entries, 2023-01-01 to 2023-01-31\n",
      "Data columns (total 1 columns):\n",
      " #   Column     Non-Null Count  Dtype\n",
      "---  ------     --------------  -----\n",
      " 0   Potrošnja  31 non-null     int64\n",
      "dtypes: int64(1)\n",
      "memory usage: 496.0+ bytes\n"
     ]
    },
    {
     "data": {
      "text/html": [
       "<div>\n",
       "<style scoped>\n",
       "    .dataframe tbody tr th:only-of-type {\n",
       "        vertical-align: middle;\n",
       "    }\n",
       "\n",
       "    .dataframe tbody tr th {\n",
       "        vertical-align: top;\n",
       "    }\n",
       "\n",
       "    .dataframe thead th {\n",
       "        text-align: right;\n",
       "    }\n",
       "</style>\n",
       "<table border=\"1\" class=\"dataframe\">\n",
       "  <thead>\n",
       "    <tr style=\"text-align: right;\">\n",
       "      <th></th>\n",
       "      <th>Potrošnja</th>\n",
       "    </tr>\n",
       "    <tr>\n",
       "      <th>Datum</th>\n",
       "      <th></th>\n",
       "    </tr>\n",
       "  </thead>\n",
       "  <tbody>\n",
       "    <tr>\n",
       "      <th>2023-01-01</th>\n",
       "      <td>150</td>\n",
       "    </tr>\n",
       "    <tr>\n",
       "      <th>2023-01-02</th>\n",
       "      <td>200</td>\n",
       "    </tr>\n",
       "    <tr>\n",
       "      <th>2023-01-03</th>\n",
       "      <td>10</td>\n",
       "    </tr>\n",
       "    <tr>\n",
       "      <th>2023-01-04</th>\n",
       "      <td>300</td>\n",
       "    </tr>\n",
       "    <tr>\n",
       "      <th>2023-01-05</th>\n",
       "      <td>600</td>\n",
       "    </tr>\n",
       "  </tbody>\n",
       "</table>\n",
       "</div>"
      ],
      "text/plain": [
       "            Potrošnja\n",
       "Datum                \n",
       "2023-01-01        150\n",
       "2023-01-02        200\n",
       "2023-01-03         10\n",
       "2023-01-04        300\n",
       "2023-01-05        600"
      ]
     },
     "metadata": {},
     "output_type": "display_data"
    },
    {
     "data": {
      "text/plain": [
       "None"
      ]
     },
     "metadata": {},
     "output_type": "display_data"
    }
   ],
   "source": [
    "# Load & clean\n",
    "df = (\n",
    "    pd.read_csv(\n",
    "        '../data/historical_consumption.csv',\n",
    "        skipinitialspace=True,\n",
    "        parse_dates=['Datum'],\n",
    "        dayfirst=True\n",
    "    )\n",
    "    .rename(columns={'potrosnja':'Potrošnja'})\n",
    "    .sort_values('Datum')\n",
    "    .set_index('Datum')\n",
    ")\n",
    "df['Potrošnja'] = df['Potrošnja'].fillna(0)\n",
    "\n",
    "print(\"Versions:\", scipy.__version__, sm.__version__)\n",
    "display(df.head(), df.info())"
   ]
  },
  {
   "cell_type": "code",
   "execution_count": 24,
   "id": "5c6be9b5",
   "metadata": {},
   "outputs": [
    {
     "name": "stdout",
     "output_type": "stream",
     "text": [
      "Train: 24 rows, Valid: 7 rows\n"
     ]
    }
   ],
   "source": [
    "# Train/valid split\n",
    "split = int(len(df) * 0.8)\n",
    "train, valid = df.iloc[:split], df.iloc[split:]\n",
    "print(f\"Train: {len(train)} rows, Valid: {len(valid)} rows\")"
   ]
  },
  {
   "cell_type": "code",
   "execution_count": 25,
   "id": "e6aa4704",
   "metadata": {},
   "outputs": [
    {
     "name": "stderr",
     "output_type": "stream",
     "text": [
      "21:17:25 - cmdstanpy - INFO - Chain [1] start processing\n",
      "21:17:25 - cmdstanpy - INFO - Chain [1] done processing\n"
     ]
    },
    {
     "name": "stdout",
     "output_type": "stream",
     "text": [
      "Prophet RMSE: 691.94\n"
     ]
    }
   ],
   "source": [
    "# Prophet proof-of-concept\n",
    "prophet_train = train.reset_index().rename(columns={'Datum':'ds','Potrošnja':'y'})[['ds','y']]\n",
    "prophet_valid = valid.reset_index().rename(columns={'Datum':'ds','Potrošnja':'y'})[['ds','y']]\n",
    "\n",
    "m = Prophet(daily_seasonality=True, weekly_seasonality=True, yearly_seasonality=False)\n",
    "m.fit(prophet_train)\n",
    "\n",
    "future = m.make_future_dataframe(periods=len(valid), freq='D')\n",
    "forecast = m.predict(future)\n",
    "\n",
    "pred_prophet = forecast.set_index('ds')['yhat'].iloc[-len(valid):].values\n",
    "rmse_prophet = np.sqrt(mean_squared_error(prophet_valid['y'], pred_prophet))\n",
    "\n",
    "print(f\"Prophet RMSE: {rmse_prophet:.2f}\")"
   ]
  },
  {
   "cell_type": "code",
   "execution_count": 26,
   "id": "84584ac0",
   "metadata": {},
   "outputs": [
    {
     "name": "stdout",
     "output_type": "stream",
     "text": [
      "                               SARIMAX Results                                \n",
      "==============================================================================\n",
      "Dep. Variable:              Potrošnja   No. Observations:                   24\n",
      "Model:                 ARIMA(1, 1, 1)   Log Likelihood                -171.489\n",
      "Date:                Thu, 10 Jul 2025   AIC                            348.978\n",
      "Time:                        21:17:25   BIC                            352.384\n",
      "Sample:                    01-01-2023   HQIC                           349.834\n",
      "                         - 01-24-2023                                         \n",
      "Covariance Type:                  opg                                         \n",
      "==============================================================================\n",
      "                 coef    std err          z      P>|z|      [0.025      0.975]\n",
      "------------------------------------------------------------------------------\n",
      "ar.L1          0.6161      0.312      1.972      0.049       0.004       1.228\n",
      "ma.L1         -0.9988     10.039     -0.099      0.921     -20.675      18.677\n",
      "sigma2       1.62e+05   1.62e+06      0.100      0.920   -3.01e+06    3.34e+06\n",
      "===================================================================================\n",
      "Ljung-Box (L1) (Q):                   0.03   Jarque-Bera (JB):                 6.02\n",
      "Prob(Q):                              0.87   Prob(JB):                         0.05\n",
      "Heteroskedasticity (H):               2.49   Skew:                             0.99\n",
      "Prob(H) (two-sided):                  0.22   Kurtosis:                         4.54\n",
      "===================================================================================\n",
      "\n",
      "Warnings:\n",
      "[1] Covariance matrix calculated using the outer product of gradients (complex-step).\n",
      "ARIMA(1, 1, 1) RMSE: 281.64\n"
     ]
    },
    {
     "name": "stderr",
     "output_type": "stream",
     "text": [
      "C:\\Users\\j\\Desktop\\projects\\consumption-forecast\\venv\\Lib\\site-packages\\statsmodels\\tsa\\base\\tsa_model.py:473: ValueWarning: No frequency information was provided, so inferred frequency D will be used.\n",
      "  self._init_dates(dates, freq)\n",
      "C:\\Users\\j\\Desktop\\projects\\consumption-forecast\\venv\\Lib\\site-packages\\statsmodels\\tsa\\base\\tsa_model.py:473: ValueWarning: No frequency information was provided, so inferred frequency D will be used.\n",
      "  self._init_dates(dates, freq)\n",
      "C:\\Users\\j\\Desktop\\projects\\consumption-forecast\\venv\\Lib\\site-packages\\statsmodels\\tsa\\base\\tsa_model.py:473: ValueWarning: No frequency information was provided, so inferred frequency D will be used.\n",
      "  self._init_dates(dates, freq)\n"
     ]
    }
   ],
   "source": [
    "# ARIMA proof-of-concept\n",
    "order = (1,1,1)\n",
    "arima_model = sm.tsa.ARIMA(train['Potrošnja'], order=order).fit()\n",
    "pred_arima = arima_model.forecast(steps=len(valid))\n",
    "rmse_arima = np.sqrt(mean_squared_error(valid['Potrošnja'], pred_arima))\n",
    "\n",
    "print(arima_model.summary())\n",
    "print(f\"ARIMA{order} RMSE: {rmse_arima:.2f}\")"
   ]
  },
  {
   "cell_type": "code",
   "execution_count": 27,
   "id": "34a2014d",
   "metadata": {},
   "outputs": [
    {
     "data": {
      "text/html": [
       "<div>\n",
       "<style scoped>\n",
       "    .dataframe tbody tr th:only-of-type {\n",
       "        vertical-align: middle;\n",
       "    }\n",
       "\n",
       "    .dataframe tbody tr th {\n",
       "        vertical-align: top;\n",
       "    }\n",
       "\n",
       "    .dataframe thead th {\n",
       "        text-align: right;\n",
       "    }\n",
       "</style>\n",
       "<table border=\"1\" class=\"dataframe\">\n",
       "  <thead>\n",
       "    <tr style=\"text-align: right;\">\n",
       "      <th></th>\n",
       "      <th>model</th>\n",
       "      <th>rmse</th>\n",
       "    </tr>\n",
       "  </thead>\n",
       "  <tbody>\n",
       "    <tr>\n",
       "      <th>0</th>\n",
       "      <td>Prophet</td>\n",
       "      <td>691.941349</td>\n",
       "    </tr>\n",
       "    <tr>\n",
       "      <th>1</th>\n",
       "      <td>ARIMA(1, 1, 1)</td>\n",
       "      <td>281.638909</td>\n",
       "    </tr>\n",
       "  </tbody>\n",
       "</table>\n",
       "</div>"
      ],
      "text/plain": [
       "            model        rmse\n",
       "0         Prophet  691.941349\n",
       "1  ARIMA(1, 1, 1)  281.638909"
      ]
     },
     "metadata": {},
     "output_type": "display_data"
    }
   ],
   "source": [
    "results = pd.DataFrame({\n",
    "    'model': ['Prophet', f'ARIMA{order}'],\n",
    "    'rmse':  [rmse_prophet, rmse_arima]\n",
    "})\n",
    "display(results)"
   ]
  },
  {
   "cell_type": "code",
   "execution_count": 28,
   "id": "ab3c36c5",
   "metadata": {},
   "outputs": [
    {
     "name": "stderr",
     "output_type": "stream",
     "text": [
      "C:\\Users\\j\\Desktop\\projects\\consumption-forecast\\venv\\Lib\\site-packages\\statsmodels\\tsa\\base\\tsa_model.py:473: ValueWarning: No frequency information was provided, so inferred frequency D will be used.\n",
      "  self._init_dates(dates, freq)\n",
      "C:\\Users\\j\\Desktop\\projects\\consumption-forecast\\venv\\Lib\\site-packages\\statsmodels\\tsa\\base\\tsa_model.py:473: ValueWarning: No frequency information was provided, so inferred frequency D will be used.\n",
      "  self._init_dates(dates, freq)\n",
      "C:\\Users\\j\\Desktop\\projects\\consumption-forecast\\venv\\Lib\\site-packages\\statsmodels\\tsa\\base\\tsa_model.py:473: ValueWarning: No frequency information was provided, so inferred frequency D will be used.\n",
      "  self._init_dates(dates, freq)\n"
     ]
    },
    {
     "ename": "TypeError",
     "evalue": "can only concatenate str (not \"Timedelta\") to str",
     "output_type": "error",
     "traceback": [
      "\u001b[31m---------------------------------------------------------------------------\u001b[39m",
      "\u001b[31mTypeError\u001b[39m                                 Traceback (most recent call last)",
      "\u001b[36mCell\u001b[39m\u001b[36m \u001b[39m\u001b[32mIn[28]\u001b[39m\u001b[32m, line 3\u001b[39m\n\u001b[32m      1\u001b[39m \u001b[38;5;28;01mfrom\u001b[39;00m\u001b[38;5;250m \u001b[39m\u001b[34;01msrc\u001b[39;00m\u001b[34;01m.\u001b[39;00m\u001b[34;01mmodel\u001b[39;00m\u001b[38;5;250m \u001b[39m\u001b[38;5;28;01mimport\u001b[39;00m train_and_forecast_arima\n\u001b[32m----> \u001b[39m\u001b[32m3\u001b[39m res = \u001b[43mtrain_and_forecast_arima\u001b[49m\u001b[43m(\u001b[49m\u001b[43mtrain\u001b[49m\u001b[43m,\u001b[49m\u001b[43m \u001b[49m\u001b[43morder\u001b[49m\u001b[43m=\u001b[49m\u001b[43morder\u001b[49m\u001b[43m,\u001b[49m\u001b[43m \u001b[49m\u001b[43mperiods\u001b[49m\u001b[43m=\u001b[49m\u001b[38;5;28;43mlen\u001b[39;49m\u001b[43m(\u001b[49m\u001b[43mvalid\u001b[49m\u001b[43m)\u001b[49m\u001b[43m)\u001b[49m\n\u001b[32m      4\u001b[39m mse = mean_squared_error(valid[\u001b[33m'\u001b[39m\u001b[33mPotrošnja\u001b[39m\u001b[33m'\u001b[39m], res[\u001b[33m'\u001b[39m\u001b[33mforecast\u001b[39m\u001b[33m'\u001b[39m])\n\u001b[32m      5\u001b[39m \u001b[38;5;28mprint\u001b[39m(\u001b[33m\"\u001b[39m\u001b[33mAIC:\u001b[39m\u001b[33m\"\u001b[39m, res[\u001b[33m'\u001b[39m\u001b[33maic\u001b[39m\u001b[33m'\u001b[39m], \u001b[33m\"\u001b[39m\u001b[33m| RMSE:\u001b[39m\u001b[33m\"\u001b[39m, np.sqrt(mse))\n",
      "\u001b[36mFile \u001b[39m\u001b[32m~\\Desktop\\projects\\consumption-forecast\\src\\model.py:34\u001b[39m, in \u001b[36mtrain_and_forecast_arima\u001b[39m\u001b[34m(df, order, periods, valid)\u001b[39m\n\u001b[32m     31\u001b[39m \u001b[38;5;66;03m# Attach proper date index\u001b[39;00m\n\u001b[32m     32\u001b[39m last_date = df.index.max()\n\u001b[32m     33\u001b[39m forecast.index = pd.date_range(\n\u001b[32m---> \u001b[39m\u001b[32m34\u001b[39m     \u001b[43mlast_date\u001b[49m\u001b[43m \u001b[49m\u001b[43m+\u001b[49m\u001b[43m \u001b[49m\u001b[43mpd\u001b[49m\u001b[43m.\u001b[49m\u001b[43mTimedelta\u001b[49m\u001b[43m(\u001b[49m\u001b[43mdays\u001b[49m\u001b[43m=\u001b[49m\u001b[32;43m1\u001b[39;49m\u001b[43m)\u001b[49m, periods=periods, freq=df.index.freq \u001b[38;5;129;01mor\u001b[39;00m \u001b[33m\"\u001b[39m\u001b[33mD\u001b[39m\u001b[33m\"\u001b[39m\n\u001b[32m     35\u001b[39m )\n\u001b[32m     37\u001b[39m result = {\u001b[33m\"\u001b[39m\u001b[33mforecast\u001b[39m\u001b[33m\"\u001b[39m: forecast, \u001b[33m\"\u001b[39m\u001b[33maic\u001b[39m\u001b[33m\"\u001b[39m: model.aic}\n\u001b[32m     39\u001b[39m \u001b[38;5;66;03m# Optional RMSE\u001b[39;00m\n",
      "\u001b[31mTypeError\u001b[39m: can only concatenate str (not \"Timedelta\") to str"
     ]
    }
   ],
   "source": [
    "from src.model import train_and_forecast_arima\n",
    "\n",
    "res = train_and_forecast_arima(train, order=order, periods=len(valid))\n",
    "mse = mean_squared_error(valid['Potrošnja'], res['forecast'])\n",
    "print(\"AIC:\", res['aic'], \"| RMSE:\", np.sqrt(mse))\n",
    "display(res['forecast'].head())"
   ]
  },
  {
   "cell_type": "code",
   "execution_count": null,
   "id": "98d81661",
   "metadata": {},
   "outputs": [
    {
     "name": "stderr",
     "output_type": "stream",
     "text": [
      "C:\\Users\\j\\Desktop\\projects\\consumption-forecast\\venv\\Lib\\site-packages\\statsmodels\\tsa\\base\\tsa_model.py:473: ValueWarning: No frequency information was provided, so inferred frequency D will be used.\n",
      "  self._init_dates(dates, freq)\n",
      "C:\\Users\\j\\Desktop\\projects\\consumption-forecast\\venv\\Lib\\site-packages\\statsmodels\\tsa\\base\\tsa_model.py:473: ValueWarning: No frequency information was provided, so inferred frequency D will be used.\n",
      "  self._init_dates(dates, freq)\n",
      "C:\\Users\\j\\Desktop\\projects\\consumption-forecast\\venv\\Lib\\site-packages\\statsmodels\\tsa\\base\\tsa_model.py:473: ValueWarning: No frequency information was provided, so inferred frequency D will be used.\n",
      "  self._init_dates(dates, freq)\n",
      "C:\\Users\\j\\Desktop\\projects\\consumption-forecast\\venv\\Lib\\site-packages\\statsmodels\\tsa\\base\\tsa_model.py:473: ValueWarning: No frequency information was provided, so inferred frequency D will be used.\n",
      "  self._init_dates(dates, freq)\n",
      "C:\\Users\\j\\Desktop\\projects\\consumption-forecast\\venv\\Lib\\site-packages\\statsmodels\\tsa\\base\\tsa_model.py:473: ValueWarning: No frequency information was provided, so inferred frequency D will be used.\n",
      "  self._init_dates(dates, freq)\n",
      "C:\\Users\\j\\Desktop\\projects\\consumption-forecast\\venv\\Lib\\site-packages\\statsmodels\\tsa\\base\\tsa_model.py:473: ValueWarning: No frequency information was provided, so inferred frequency D will be used.\n",
      "  self._init_dates(dates, freq)\n",
      "C:\\Users\\j\\Desktop\\projects\\consumption-forecast\\venv\\Lib\\site-packages\\statsmodels\\tsa\\statespace\\sarimax.py:966: UserWarning: Non-stationary starting autoregressive parameters found. Using zeros as starting parameters.\n",
      "  warn('Non-stationary starting autoregressive parameters'\n",
      "C:\\Users\\j\\Desktop\\projects\\consumption-forecast\\venv\\Lib\\site-packages\\statsmodels\\tsa\\statespace\\sarimax.py:978: UserWarning: Non-invertible starting MA parameters found. Using zeros as starting parameters.\n",
      "  warn('Non-invertible starting MA parameters found.'\n",
      "C:\\Users\\j\\Desktop\\projects\\consumption-forecast\\venv\\Lib\\site-packages\\statsmodels\\tsa\\base\\tsa_model.py:473: ValueWarning: No frequency information was provided, so inferred frequency D will be used.\n",
      "  self._init_dates(dates, freq)\n",
      "C:\\Users\\j\\Desktop\\projects\\consumption-forecast\\venv\\Lib\\site-packages\\statsmodels\\tsa\\base\\tsa_model.py:473: ValueWarning: No frequency information was provided, so inferred frequency D will be used.\n",
      "  self._init_dates(dates, freq)\n",
      "C:\\Users\\j\\Desktop\\projects\\consumption-forecast\\venv\\Lib\\site-packages\\statsmodels\\tsa\\base\\tsa_model.py:473: ValueWarning: No frequency information was provided, so inferred frequency D will be used.\n",
      "  self._init_dates(dates, freq)\n",
      "C:\\Users\\j\\Desktop\\projects\\consumption-forecast\\venv\\Lib\\site-packages\\statsmodels\\tsa\\statespace\\sarimax.py:966: UserWarning: Non-stationary starting autoregressive parameters found. Using zeros as starting parameters.\n",
      "  warn('Non-stationary starting autoregressive parameters'\n",
      "C:\\Users\\j\\Desktop\\projects\\consumption-forecast\\venv\\Lib\\site-packages\\statsmodels\\tsa\\statespace\\sarimax.py:978: UserWarning: Non-invertible starting MA parameters found. Using zeros as starting parameters.\n",
      "  warn('Non-invertible starting MA parameters found.'\n",
      "C:\\Users\\j\\Desktop\\projects\\consumption-forecast\\venv\\Lib\\site-packages\\statsmodels\\tsa\\base\\tsa_model.py:473: ValueWarning: No frequency information was provided, so inferred frequency D will be used.\n",
      "  self._init_dates(dates, freq)\n"
     ]
    },
    {
     "name": "stdout",
     "output_type": "stream",
     "text": [
      "Rolling 7-day RMSE: 333.21\n",
      "Rolling 7-day MAE : 313.63\n"
     ]
    },
    {
     "name": "stderr",
     "output_type": "stream",
     "text": [
      "C:\\Users\\j\\Desktop\\projects\\consumption-forecast\\venv\\Lib\\site-packages\\statsmodels\\tsa\\base\\tsa_model.py:473: ValueWarning: No frequency information was provided, so inferred frequency D will be used.\n",
      "  self._init_dates(dates, freq)\n",
      "C:\\Users\\j\\Desktop\\projects\\consumption-forecast\\venv\\Lib\\site-packages\\statsmodels\\tsa\\base\\tsa_model.py:473: ValueWarning: No frequency information was provided, so inferred frequency D will be used.\n",
      "  self._init_dates(dates, freq)\n"
     ]
    }
   ],
   "source": [
    "order    = (1,1,1)\n",
    "H        = 7\n",
    "min_train = 20\n",
    "\n",
    "rmse_list = []\n",
    "mae_list  = []\n",
    "\n",
    "for i in range(min_train, len(df) - H):\n",
    "    train_slice = df.iloc[:i]\n",
    "    true_slice  = df['Potrošnja'].iloc[i : i+H]\n",
    "    \n",
    "    # forecast H steps\n",
    "    res   = train_and_forecast_arima(train_slice, order=order, periods=H)\n",
    "    pred  = res['forecast']\n",
    "    \n",
    "    # align and compute errors\n",
    "    pred = pred.reindex(true_slice.index)  # sigurnost da su indeksi isti\n",
    "    \n",
    "    rmse_list.append(\n",
    "        np.sqrt(np.mean((true_slice - pred) ** 2))\n",
    "    )\n",
    "    mae_list.append(\n",
    "        mean_absolute_error(true_slice, pred)\n",
    "    )\n",
    "\n",
    "rolling_rmse = np.mean(rmse_list)  # prosječni RMSE preko svih windows\n",
    "rolling_mae  = np.mean(mae_list)\n",
    "\n",
    "print(f\"Rolling {H}-day RMSE: {rolling_rmse:.2f}\")\n",
    "print(f\"Rolling {H}-day MAE : {rolling_mae:.2f}\")"
   ]
  },
  {
   "cell_type": "code",
   "execution_count": null,
   "id": "a5bdcc96",
   "metadata": {},
   "outputs": [
    {
     "data": {
      "image/png": "[encoded data removed]",
      "text/plain": [
       "<Figure size 1000x300 with 1 Axes>"
      ]
     },
     "metadata": {},
     "output_type": "display_data"
    }
   ],
   "source": [
    "import matplotlib.pyplot as plt\n",
    "\n",
    "residuals = arima_model.resid\n",
    "\n",
    "plt.figure(figsize=(10,3))\n",
    "plt.plot(residuals)\n",
    "plt.title(\"Ostatci ARIMA(1,1,1)\")\n",
    "plt.xlabel(\"Datum\")\n",
    "plt.ylabel(\"Residuali\")\n",
    "\n",
    "# reduce tick label size\n",
    "plt.tick_params(axis='x', labelsize=8, rotation=45)\n",
    "plt.tick_params(axis='y', labelsize=8)\n",
    "\n",
    "plt.tight_layout()  \n",
    "plt.show()\n"
   ]
  },
  {
   "cell_type": "code",
   "execution_count": null,
   "id": "536c8690",
   "metadata": {},
   "outputs": [
    {
     "ename": "ValueError",
     "evalue": "Can only compute partial correlations for lags up to 50% of the sample size. The requested nlags 20 must be < 12.",
     "output_type": "error",
     "traceback": [
      "\u001b[31m---------------------------------------------------------------------------\u001b[39m",
      "\u001b[31mValueError\u001b[39m                                Traceback (most recent call last)",
      "\u001b[36mCell\u001b[39m\u001b[36m \u001b[39m\u001b[32mIn[112]\u001b[39m\u001b[32m, line 5\u001b[39m\n\u001b[32m      3\u001b[39m fig, axes = plt.subplots(\u001b[32m1\u001b[39m,\u001b[32m2\u001b[39m, figsize=(\u001b[32m12\u001b[39m,\u001b[32m3\u001b[39m))\n\u001b[32m      4\u001b[39m plot_acf(residuals, lags=\u001b[32m20\u001b[39m, ax=axes[\u001b[32m0\u001b[39m], title=\u001b[33m\"\u001b[39m\u001b[33mACF ostataka\u001b[39m\u001b[33m\"\u001b[39m)\n\u001b[32m----> \u001b[39m\u001b[32m5\u001b[39m \u001b[43mplot_pacf\u001b[49m\u001b[43m(\u001b[49m\u001b[43mresiduals\u001b[49m\u001b[43m,\u001b[49m\u001b[43m \u001b[49m\u001b[43mlags\u001b[49m\u001b[43m=\u001b[49m\u001b[32;43m20\u001b[39;49m\u001b[43m,\u001b[49m\u001b[43m \u001b[49m\u001b[43max\u001b[49m\u001b[43m=\u001b[49m\u001b[43maxes\u001b[49m\u001b[43m[\u001b[49m\u001b[32;43m1\u001b[39;49m\u001b[43m]\u001b[49m\u001b[43m,\u001b[49m\u001b[43m \u001b[49m\u001b[43mtitle\u001b[49m\u001b[43m=\u001b[49m\u001b[33;43m\"\u001b[39;49m\u001b[33;43mPACF ostataka\u001b[39;49m\u001b[33;43m\"\u001b[39;49m\u001b[43m)\u001b[49m\n\u001b[32m      6\u001b[39m plt.tight_layout()\n\u001b[32m      7\u001b[39m plt.show()\n",
      "\u001b[36mFile \u001b[39m\u001b[32m~\\Desktop\\projects\\consumption-forecast\\venv\\Lib\\site-packages\\statsmodels\\graphics\\tsaplots.py:355\u001b[39m, in \u001b[36mplot_pacf\u001b[39m\u001b[34m(x, ax, lags, alpha, method, use_vlines, title, zero, vlines_kwargs, **kwargs)\u001b[39m\n\u001b[32m    353\u001b[39m     acf_x = pacf(x, nlags=nlags, alpha=alpha, method=method)\n\u001b[32m    354\u001b[39m \u001b[38;5;28;01melse\u001b[39;00m:\n\u001b[32m--> \u001b[39m\u001b[32m355\u001b[39m     acf_x, confint = \u001b[43mpacf\u001b[49m\u001b[43m(\u001b[49m\u001b[43mx\u001b[49m\u001b[43m,\u001b[49m\u001b[43m \u001b[49m\u001b[43mnlags\u001b[49m\u001b[43m=\u001b[49m\u001b[43mnlags\u001b[49m\u001b[43m,\u001b[49m\u001b[43m \u001b[49m\u001b[43malpha\u001b[49m\u001b[43m=\u001b[49m\u001b[43malpha\u001b[49m\u001b[43m,\u001b[49m\u001b[43m \u001b[49m\u001b[43mmethod\u001b[49m\u001b[43m=\u001b[49m\u001b[43mmethod\u001b[49m\u001b[43m)\u001b[49m\n\u001b[32m    357\u001b[39m _plot_corr(\n\u001b[32m    358\u001b[39m     ax,\n\u001b[32m    359\u001b[39m     title,\n\u001b[32m   (...)\u001b[39m\u001b[32m    366\u001b[39m     **kwargs,\n\u001b[32m    367\u001b[39m )\n\u001b[32m    369\u001b[39m \u001b[38;5;28;01mreturn\u001b[39;00m fig\n",
      "\u001b[36mFile \u001b[39m\u001b[32m~\\Desktop\\projects\\consumption-forecast\\venv\\Lib\\site-packages\\statsmodels\\tsa\\stattools.py:1050\u001b[39m, in \u001b[36mpacf\u001b[39m\u001b[34m(x, nlags, method, alpha)\u001b[39m\n\u001b[32m   1048\u001b[39m nlags = \u001b[38;5;28mmax\u001b[39m(nlags, \u001b[32m1\u001b[39m)\n\u001b[32m   1049\u001b[39m \u001b[38;5;28;01mif\u001b[39;00m nlags > x.shape[\u001b[32m0\u001b[39m] // \u001b[32m2\u001b[39m:\n\u001b[32m-> \u001b[39m\u001b[32m1050\u001b[39m     \u001b[38;5;28;01mraise\u001b[39;00m \u001b[38;5;167;01mValueError\u001b[39;00m(\n\u001b[32m   1051\u001b[39m         \u001b[33m\"\u001b[39m\u001b[33mCan only compute partial correlations for lags up to 50\u001b[39m\u001b[38;5;132;01m% o\u001b[39;00m\u001b[33mf the \u001b[39m\u001b[33m\"\u001b[39m\n\u001b[32m   1052\u001b[39m         \u001b[33mf\u001b[39m\u001b[33m\"\u001b[39m\u001b[33msample size. The requested nlags \u001b[39m\u001b[38;5;132;01m{\u001b[39;00mnlags\u001b[38;5;132;01m}\u001b[39;00m\u001b[33m must be < \u001b[39m\u001b[33m\"\u001b[39m\n\u001b[32m   1053\u001b[39m         \u001b[33mf\u001b[39m\u001b[33m\"\u001b[39m\u001b[38;5;132;01m{\u001b[39;00mx.shape[\u001b[32m0\u001b[39m]\u001b[38;5;250m \u001b[39m//\u001b[38;5;250m \u001b[39m\u001b[32m2\u001b[39m\u001b[38;5;132;01m}\u001b[39;00m\u001b[33m.\u001b[39m\u001b[33m\"\u001b[39m\n\u001b[32m   1054\u001b[39m     )\n\u001b[32m   1055\u001b[39m \u001b[38;5;28;01mif\u001b[39;00m method \u001b[38;5;129;01min\u001b[39;00m (\u001b[33m\"\u001b[39m\u001b[33mols\u001b[39m\u001b[33m\"\u001b[39m, \u001b[33m\"\u001b[39m\u001b[33mols-inefficient\u001b[39m\u001b[33m\"\u001b[39m, \u001b[33m\"\u001b[39m\u001b[33mols-adjusted\u001b[39m\u001b[33m\"\u001b[39m):\n\u001b[32m   1056\u001b[39m     efficient = \u001b[33m\"\u001b[39m\u001b[33minefficient\u001b[39m\u001b[33m\"\u001b[39m \u001b[38;5;129;01mnot\u001b[39;00m \u001b[38;5;129;01min\u001b[39;00m method\n",
      "\u001b[31mValueError\u001b[39m: Can only compute partial correlations for lags up to 50% of the sample size. The requested nlags 20 must be < 12."
     ]
    },
    {
     "data": {
      "image/png": "[encoded data removed]",
      "text/plain": [
       "<Figure size 1200x300 with 2 Axes>"
      ]
     },
     "metadata": {},
     "output_type": "display_data"
    }
   ],
   "source": [
    "from statsmodels.graphics.tsaplots import plot_acf, plot_pacf\n",
    "\n",
    "fig, axes = plt.subplots(1,2, figsize=(12,3))\n",
    "plot_acf(residuals, lags=20, ax=axes[0], title=\"ACF ostataka\")\n",
    "plot_pacf(residuals, lags=20, ax=axes[1], title=\"PACF ostataka\")\n",
    "plt.tight_layout()\n",
    "plt.show()\n"
   ]
  }
 ],
 "metadata": {
  "kernelspec": {
   "display_name": "Python 3 (ipykernel)",
   "language": "python",
   "name": "python3"
  },
  "language_info": {
   "codemirror_mode": {
    "name": "ipython",
    "version": 3
   },
   "file_extension": ".py",
   "mimetype": "text/x-python",
   "name": "python",
   "nbconvert_exporter": "python",
   "pygments_lexer": "ipython3",
   "version": "3.11.9"
  }
 },
 "nbformat": 4,
 "nbformat_minor": 5
}
