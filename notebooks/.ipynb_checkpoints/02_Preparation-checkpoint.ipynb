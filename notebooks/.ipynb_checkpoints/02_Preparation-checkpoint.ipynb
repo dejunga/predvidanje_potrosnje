{
 "cells": [
  {
   "cell_type": "code",
   "execution_count": 7,
   "id": "0f7f444e-ae39-455d-a8d9-60fb0ba46441",
   "metadata": {},
   "outputs": [
    {
     "name": "stdout",
     "output_type": "stream",
     "text": [
      "            Potrošnja\n",
      "Datum                \n",
      "2023-01-01        150\n",
      "2023-01-02        200\n",
      "2023-01-03         10\n",
      "2023-01-04        300\n",
      "2023-01-05        600\n"
     ]
    }
   ],
   "source": [
    "# Pretpostavljamo da je df već učitan, ako ne, ponovo ga učitaj:\n",
    "import pandas as pd\n",
    "\n",
    "df = pd.read_csv(\n",
    "    '../data/historical_consumption.csv',\n",
    "    skipinitialspace=True,\n",
    "    parse_dates=['Datum'],\n",
    "    dayfirst=True\n",
    ")\n",
    "df.rename(columns={'potrosnja':'Potrošnja'}, inplace=True)\n",
    "\n",
    "# 1) Sortiraj po datumu\n",
    "df = df.sort_values('Datum').reset_index(drop=True)\n",
    "\n",
    "# 2) Postavi Datum za index\n",
    "df.set_index('Datum', inplace=True)\n",
    "\n",
    "print(df.head())"
   ]
  },
  {
   "cell_type": "code",
   "execution_count": 8,
   "id": "733c9883-03c5-45de-8d78-c2e87da5a536",
   "metadata": {},
   "outputs": [
    {
     "name": "stdout",
     "output_type": "stream",
     "text": [
      "Broj nula: 1\n",
      "Nakon interpolacije, nula: 0\n"
     ]
    },
    {
     "name": "stderr",
     "output_type": "stream",
     "text": [
      "C:\\Users\\j\\AppData\\Local\\Temp\\ipykernel_100036\\3018149316.py:6: FutureWarning: Series.interpolate with object dtype is deprecated and will raise in a future version. Call obj.infer_objects(copy=False) before interpolating instead.\n",
      "  df['Potrošnja'] = df['Potrošnja'].interpolate(method='linear')\n"
     ]
    }
   ],
   "source": [
    "# Pogledaj koliko nula ima:\n",
    "print(\"Broj nula:\", (df['Potrošnja'] == 0).sum())\n",
    "\n",
    "# Ako su nule artefakti i želiš ih imputirati linearnom interpolacijom:\n",
    "df['Potrošnja'] = df['Potrošnja'].replace(0, pd.NA)\n",
    "df['Potrošnja'] = df['Potrošnja'].interpolate(method='linear')\n",
    "\n",
    "print(\"Nakon interpolacije, nula:\", (df['Potrošnja'] == 0).sum())"
   ]
  },
  {
   "cell_type": "code",
   "execution_count": null,
   "id": "629556c8-d932-4f86-a9e5-eba77094d549",
   "metadata": {},
   "outputs": [],
   "source": [
    "n = len(df_fe)\n",
    "split = int(n * 0.8)\n",
    "\n",
    "train = df_fe.iloc[:split].copy()\n",
    "valid = df_fe.iloc[split:].copy()\n",
    "\n",
    "print(f\"Train: {train.shape[0]} redova, Valid: {valid.shape[0]} redova\")"
   ]
  },
  {
   "cell_type": "code",
   "execution_count": null,
   "id": "9f6513fa-7db1-4063-ac47-9525454f77a3",
   "metadata": {},
   "outputs": [],
   "source": []
  }
 ],
 "metadata": {
  "kernelspec": {
   "display_name": "Python 3 (ipykernel)",
   "language": "python",
   "name": "python3"
  },
  "language_info": {
   "codemirror_mode": {
    "name": "ipython",
    "version": 3
   },
   "file_extension": ".py",
   "mimetype": "text/x-python",
   "name": "python",
   "nbconvert_exporter": "python",
   "pygments_lexer": "ipython3",
   "version": "3.11.9"
  }
 },
 "nbformat": 4,
 "nbformat_minor": 5
}
